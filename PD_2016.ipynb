{
 "cells": [
  {
   "cell_type": "code",
   "execution_count": 1,
   "metadata": {},
   "outputs": [],
   "source": [
    "import pandas as pd\n",
    "import warnings\n",
    "warnings.filterwarnings('ignore')"
   ]
  },
  {
   "cell_type": "code",
   "execution_count": 2,
   "metadata": {},
   "outputs": [],
   "source": [
    "a = pd.ExcelFile('2016.xlsx')"
   ]
  },
  {
   "cell_type": "code",
   "execution_count": 3,
   "metadata": {},
   "outputs": [
    {
     "data": {
      "text/plain": [
       "['Drown', 'Burn', 'Poison', 'Choke', 'Fall', 'Crush', 'Transport', 'Electric']"
      ]
     },
     "execution_count": 3,
     "metadata": {},
     "output_type": "execute_result"
    }
   ],
   "source": [
    "a.sheet_names"
   ]
  },
  {
   "cell_type": "markdown",
   "metadata": {},
   "source": [
    "### Drown"
   ]
  },
  {
   "cell_type": "code",
   "execution_count": 4,
   "metadata": {},
   "outputs": [],
   "source": [
    "new = pd.read_excel('2016.xlsx',sheet_name='Drown')"
   ]
  },
  {
   "cell_type": "code",
   "execution_count": 5,
   "metadata": {},
   "outputs": [
    {
     "data": {
      "text/plain": [
       "Index(['Diagnosis chapter', 'Diagnosis subchapter', '3 digit diagnosis',\n",
       "       '4 digit diagnosis', '5 digit diagnosis', 'Age Group', 'Sex',\n",
       "       'Same-day Flag', 'Separations', 'Patient Days', 'Year'],\n",
       "      dtype='object')"
      ]
     },
     "execution_count": 5,
     "metadata": {},
     "output_type": "execute_result"
    }
   ],
   "source": [
    "new.columns"
   ]
  },
  {
   "cell_type": "code",
   "execution_count": 6,
   "metadata": {},
   "outputs": [],
   "source": [
    "new = new.drop(['Diagnosis chapter', 'Diagnosis subchapter', '3 digit diagnosis',\n",
    "       '4 digit diagnosis', '5 digit diagnosis','Same-day Flag','Patient Days'],axis = 1)"
   ]
  },
  {
   "cell_type": "code",
   "execution_count": 7,
   "metadata": {},
   "outputs": [],
   "source": [
    "new['Age Group'][new['Age Group'] == '01- Age under 1'] = '0-1'\n",
    "new['Age Group'][new['Age Group'] == '02- Age 1-4 yrs'] = '1-4'\n",
    "new['Sex'][new['Sex'] == '1- Male'] = 'Male'\n",
    "new['Sex'][new['Sex'] == '2- Female'] = 'Female'"
   ]
  },
  {
   "cell_type": "code",
   "execution_count": 8,
   "metadata": {},
   "outputs": [],
   "source": [
    "new.columns = ['Age','Sex','Value','Year']"
   ]
  },
  {
   "cell_type": "code",
   "execution_count": 10,
   "metadata": {},
   "outputs": [],
   "source": [
    "drown = pd.DataFrame(columns=['Age','Sex','Value','Year'])\n",
    "for i in ['0-1','1-4']:\n",
    "    for j in ['Male','Female']:\n",
    "        l1 = [[i,j,new.Value[(new.Age==i) & (new.Sex==j)].sum(),2016]]\n",
    "        l1 = pd.DataFrame(l1,columns=['Age','Sex','Value','Year'])\n",
    "        drown = drown.append(l1)"
   ]
  },
  {
   "cell_type": "code",
   "execution_count": 11,
   "metadata": {},
   "outputs": [],
   "source": [
    "for i in ['0-1','1-4']:\n",
    "    l2 = [[i,'Persons',new.Value[new.Age==i].sum(),2016]]\n",
    "    l2 = pd.DataFrame(l2,columns=['Age','Sex','Value','Year'])\n",
    "    drown = drown.append(l2)"
   ]
  },
  {
   "cell_type": "code",
   "execution_count": 12,
   "metadata": {},
   "outputs": [],
   "source": [
    "l3 = [['0-4','Persons',drown.Value[drown.Sex=='Persons'].sum(),2016]]\n",
    "l3 = pd.DataFrame(l3,columns =['Age','Sex','Value','Year'])\n",
    "drown = drown.append(l3)"
   ]
  },
  {
   "cell_type": "code",
   "execution_count": 13,
   "metadata": {},
   "outputs": [],
   "source": [
    "for i in ['Male','Female']:\n",
    "    l4 =[['0-4',i,drown.Value[drown.Sex==i].sum(),2016]]\n",
    "    l4 = pd.DataFrame(l4,columns=['Age','Sex','Value','Year'])\n",
    "    drown = drown.append(l4)"
   ]
  },
  {
   "cell_type": "code",
   "execution_count": 14,
   "metadata": {},
   "outputs": [],
   "source": [
    "drown['Type'] = 'Drown'"
   ]
  },
  {
   "cell_type": "markdown",
   "metadata": {},
   "source": [
    "### Burn"
   ]
  },
  {
   "cell_type": "code",
   "execution_count": 15,
   "metadata": {},
   "outputs": [
    {
     "data": {
      "text/plain": [
       "Index(['Diagnosis chapter', 'Diagnosis subchapter', '3 digit diagnosis',\n",
       "       '4 digit diagnosis', '5 digit diagnosis', 'Age Group', 'Sex',\n",
       "       'Same-day Flag', 'Separations', 'Patient Days', 'Year'],\n",
       "      dtype='object')"
      ]
     },
     "execution_count": 15,
     "metadata": {},
     "output_type": "execute_result"
    }
   ],
   "source": [
    "new = pd.read_excel('2016.xlsx',sheet_name='Burn')\n",
    "new.columns"
   ]
  },
  {
   "cell_type": "code",
   "execution_count": 16,
   "metadata": {},
   "outputs": [],
   "source": [
    "new = new.drop(['Diagnosis chapter', 'Diagnosis subchapter', '3 digit diagnosis',\n",
    "       '4 digit diagnosis', '5 digit diagnosis','Same-day Flag','Patient Days'],axis = 1)"
   ]
  },
  {
   "cell_type": "code",
   "execution_count": 17,
   "metadata": {},
   "outputs": [],
   "source": [
    "new['Age Group'][new['Age Group'] == '01- Age under 1'] = '0-1'\n",
    "new['Age Group'][new['Age Group'] == '02- Age 1-4 yrs'] = '1-4'\n",
    "new['Sex'][new['Sex'] == '1- Male'] = 'Male'\n",
    "new['Sex'][new['Sex'] == '2- Female'] = 'Female'"
   ]
  },
  {
   "cell_type": "code",
   "execution_count": 18,
   "metadata": {},
   "outputs": [],
   "source": [
    "new.columns = ['Age','Sex','Value','Year']"
   ]
  },
  {
   "cell_type": "code",
   "execution_count": 19,
   "metadata": {},
   "outputs": [],
   "source": [
    "burn = pd.DataFrame(columns=['Age','Sex','Value','Year'])\n",
    "for i in ['0-1','1-4']:\n",
    "    for j in ['Male','Female']:\n",
    "        l1 = [[i,j,new.Value[(new.Age==i) & (new.Sex==j)].sum(),2016]]\n",
    "        l1 = pd.DataFrame(l1,columns=['Age','Sex','Value','Year'])\n",
    "        burn = burn.append(l1)\n",
    "        \n",
    "for i in ['0-1','1-4']:\n",
    "    l2 = [[i,'Persons',new.Value[new.Age==i].sum(),2016]]\n",
    "    l2 = pd.DataFrame(l2,columns=['Age','Sex','Value','Year'])\n",
    "    burn = burn.append(l2)\n",
    "    \n",
    "l3 = [['0-4','Persons',burn.Value[burn.Sex=='Persons'].sum(),2016]]\n",
    "l3 = pd.DataFrame(l3,columns =['Age','Sex','Value','Year'])\n",
    "burn = burn.append(l3)\n",
    "\n",
    "for i in ['Male','Female']:\n",
    "    l4 =[['0-4',i,burn.Value[burn.Sex==i].sum(),2016]]\n",
    "    l4 = pd.DataFrame(l4,columns=['Age','Sex','Value','Year'])\n",
    "    burn = burn.append(l4)\n",
    "\n",
    "burn['Type'] = 'Burn'"
   ]
  },
  {
   "cell_type": "markdown",
   "metadata": {},
   "source": [
    "### Poison"
   ]
  },
  {
   "cell_type": "code",
   "execution_count": 20,
   "metadata": {},
   "outputs": [
    {
     "data": {
      "text/plain": [
       "Index(['Diagnosis chapter', 'Diagnosis subchapter', '3 digit diagnosis',\n",
       "       '4 digit diagnosis', '5 digit diagnosis', 'Age Group', 'Sex',\n",
       "       'Same-day Flag', 'Separations', 'Patient Days', 'Year'],\n",
       "      dtype='object')"
      ]
     },
     "execution_count": 20,
     "metadata": {},
     "output_type": "execute_result"
    }
   ],
   "source": [
    "new = pd.read_excel('2016.xlsx',sheet_name='Poison')\n",
    "new.columns"
   ]
  },
  {
   "cell_type": "code",
   "execution_count": 21,
   "metadata": {},
   "outputs": [],
   "source": [
    "new = new.drop(['Diagnosis chapter', 'Diagnosis subchapter', '3 digit diagnosis',\n",
    "       '4 digit diagnosis', '5 digit diagnosis','Same-day Flag','Patient Days'],axis = 1)\n",
    "new['Age Group'][new['Age Group'] == '01- Age under 1'] = '0-1'\n",
    "new['Age Group'][new['Age Group'] == '02- Age 1-4 yrs'] = '1-4'\n",
    "new['Sex'][new['Sex'] == '1- Male'] = 'Male'\n",
    "new['Sex'][new['Sex'] == '2- Female'] = 'Female'\n",
    "new.columns = ['Age','Sex','Value','Year']"
   ]
  },
  {
   "cell_type": "code",
   "execution_count": 22,
   "metadata": {},
   "outputs": [],
   "source": [
    "poison = pd.DataFrame(columns=['Age','Sex','Value','Year'])\n",
    "for i in ['0-1','1-4']:\n",
    "    for j in ['Male','Female']:\n",
    "        l1 = [[i,j,new.Value[(new.Age==i) & (new.Sex==j)].sum(),2016]]\n",
    "        l1 = pd.DataFrame(l1,columns=['Age','Sex','Value','Year'])\n",
    "        poison = poison.append(l1)\n",
    "        \n",
    "for i in ['0-1','1-4']:\n",
    "    l2 = [[i,'Persons',new.Value[new.Age==i].sum(),2016]]\n",
    "    l2 = pd.DataFrame(l2,columns=['Age','Sex','Value','Year'])\n",
    "    poison = poison.append(l2)\n",
    "    \n",
    "l3 = [['0-4','Persons',poison.Value[poison.Sex=='Persons'].sum(),2016]]\n",
    "l3 = pd.DataFrame(l3,columns =['Age','Sex','Value','Year'])\n",
    "poison = poison.append(l3)\n",
    "\n",
    "for i in ['Male','Female']:\n",
    "    l4 =[['0-4',i,poison.Value[poison.Sex==i].sum(),2016]]\n",
    "    l4 = pd.DataFrame(l4,columns=['Age','Sex','Value','Year'])\n",
    "    poison = poison.append(l4)\n",
    "\n",
    "poison['Type'] = 'Poison'"
   ]
  },
  {
   "cell_type": "markdown",
   "metadata": {},
   "source": [
    "### Choke"
   ]
  },
  {
   "cell_type": "code",
   "execution_count": 23,
   "metadata": {},
   "outputs": [
    {
     "data": {
      "text/plain": [
       "Index(['Diagnosis chapter', 'Diagnosis subchapter', '3 digit diagnosis',\n",
       "       '4 digit diagnosis', '5 digit diagnosis', 'Age Group', 'Sex',\n",
       "       'Same-day Flag', 'Separations', 'Patient Days', 'Year'],\n",
       "      dtype='object')"
      ]
     },
     "execution_count": 23,
     "metadata": {},
     "output_type": "execute_result"
    }
   ],
   "source": [
    "new = pd.read_excel('2016.xlsx',sheet_name='Choke')\n",
    "new.columns"
   ]
  },
  {
   "cell_type": "code",
   "execution_count": 24,
   "metadata": {},
   "outputs": [],
   "source": [
    "new = new.drop(['Diagnosis chapter', 'Diagnosis subchapter', '3 digit diagnosis',\n",
    "       '4 digit diagnosis', '5 digit diagnosis','Same-day Flag','Patient Days'],axis = 1)\n",
    "new['Age Group'][new['Age Group'] == '01- Age under 1'] = '0-1'\n",
    "new['Age Group'][new['Age Group'] == '02- Age 1-4 yrs'] = '1-4'\n",
    "new['Sex'][new['Sex'] == '1- Male'] = 'Male'\n",
    "new['Sex'][new['Sex'] == '2- Female'] = 'Female'\n",
    "new.columns = ['Age','Sex','Value','Year']"
   ]
  },
  {
   "cell_type": "code",
   "execution_count": 25,
   "metadata": {},
   "outputs": [],
   "source": [
    "choke = pd.DataFrame(columns=['Age','Sex','Value','Year'])\n",
    "for i in ['0-1','1-4']:\n",
    "    for j in ['Male','Female']:\n",
    "        l1 = [[i,j,new.Value[(new.Age==i) & (new.Sex==j)].sum(),2016]]\n",
    "        l1 = pd.DataFrame(l1,columns=['Age','Sex','Value','Year'])\n",
    "        choke = choke.append(l1)\n",
    "        \n",
    "for i in ['0-1','1-4']:\n",
    "    l2 = [[i,'Persons',new.Value[new.Age==i].sum(),2016]]\n",
    "    l2 = pd.DataFrame(l2,columns=['Age','Sex','Value','Year'])\n",
    "    choke = choke.append(l2)\n",
    "    \n",
    "l3 = [['0-4','Persons',choke.Value[choke.Sex=='Persons'].sum(),2016]]\n",
    "l3 = pd.DataFrame(l3,columns =['Age','Sex','Value','Year'])\n",
    "choke = choke.append(l3)\n",
    "\n",
    "for i in ['Male','Female']:\n",
    "    l4 =[['0-4',i,choke.Value[choke.Sex==i].sum(),2016]]\n",
    "    l4 = pd.DataFrame(l4,columns=['Age','Sex','Value','Year'])\n",
    "    choke = choke.append(l4)\n",
    "\n",
    "choke['Type'] = 'Choke'"
   ]
  },
  {
   "cell_type": "markdown",
   "metadata": {},
   "source": [
    "### Fall"
   ]
  },
  {
   "cell_type": "code",
   "execution_count": 26,
   "metadata": {},
   "outputs": [
    {
     "data": {
      "text/plain": [
       "Index(['Diagnosis chapter', 'Diagnosis subchapter', '3 digit diagnosis',\n",
       "       '4 digit diagnosis', '5 digit diagnosis', 'Age Group', 'Sex',\n",
       "       'Same-day Flag', 'Separations', 'Patient Days', 'Year'],\n",
       "      dtype='object')"
      ]
     },
     "execution_count": 26,
     "metadata": {},
     "output_type": "execute_result"
    }
   ],
   "source": [
    "new = pd.read_excel('2016.xlsx',sheet_name='Fall')\n",
    "new.columns"
   ]
  },
  {
   "cell_type": "code",
   "execution_count": 27,
   "metadata": {},
   "outputs": [],
   "source": [
    "new = new.drop(['Diagnosis chapter', 'Diagnosis subchapter', '3 digit diagnosis',\n",
    "       '4 digit diagnosis', '5 digit diagnosis','Same-day Flag','Patient Days'],axis = 1)\n",
    "new['Age Group'][new['Age Group'] == '01- Age under 1'] = '0-1'\n",
    "new['Age Group'][new['Age Group'] == '02- Age 1-4 yrs'] = '1-4'\n",
    "new['Sex'][new['Sex'] == '1- Male'] = 'Male'\n",
    "new['Sex'][new['Sex'] == '2- Female'] = 'Female'\n",
    "new.columns = ['Age','Sex','Value','Year']"
   ]
  },
  {
   "cell_type": "code",
   "execution_count": 28,
   "metadata": {},
   "outputs": [],
   "source": [
    "fall = pd.DataFrame(columns=['Age','Sex','Value','Year'])\n",
    "for i in ['0-1','1-4']:\n",
    "    for j in ['Male','Female']:\n",
    "        l1 = [[i,j,new.Value[(new.Age==i) & (new.Sex==j)].sum(),2016]]\n",
    "        l1 = pd.DataFrame(l1,columns=['Age','Sex','Value','Year'])\n",
    "        fall = fall.append(l1)\n",
    "        \n",
    "for i in ['0-1','1-4']:\n",
    "    l2 = [[i,'Persons',new.Value[new.Age==i].sum(),2016]]\n",
    "    l2 = pd.DataFrame(l2,columns=['Age','Sex','Value','Year'])\n",
    "    fall = fall.append(l2)\n",
    "    \n",
    "l3 = [['0-4','Persons',fall.Value[fall.Sex=='Persons'].sum(),2016]]\n",
    "l3 = pd.DataFrame(l3,columns =['Age','Sex','Value','Year'])\n",
    "fall = fall.append(l3)\n",
    "\n",
    "for i in ['Male','Female']:\n",
    "    l4 =[['0-4',i,fall.Value[fall.Sex==i].sum(),2016]]\n",
    "    l4 = pd.DataFrame(l4,columns=['Age','Sex','Value','Year'])\n",
    "    fall = fall.append(l4)\n",
    "\n",
    "fall['Type'] = 'Fall'"
   ]
  },
  {
   "cell_type": "markdown",
   "metadata": {},
   "source": [
    "### Crush"
   ]
  },
  {
   "cell_type": "code",
   "execution_count": 29,
   "metadata": {},
   "outputs": [
    {
     "data": {
      "text/plain": [
       "Index(['Diagnosis chapter', 'Diagnosis subchapter', '3 digit diagnosis',\n",
       "       '4 digit diagnosis', '5 digit diagnosis', 'Age Group', 'Sex',\n",
       "       'Same-day Flag', 'Separations', 'Patient Days', 'Year'],\n",
       "      dtype='object')"
      ]
     },
     "execution_count": 29,
     "metadata": {},
     "output_type": "execute_result"
    }
   ],
   "source": [
    "new = pd.read_excel('2016.xlsx',sheet_name='Crush')\n",
    "new.columns"
   ]
  },
  {
   "cell_type": "code",
   "execution_count": 30,
   "metadata": {},
   "outputs": [],
   "source": [
    "new = new.drop(['Diagnosis chapter', 'Diagnosis subchapter', '3 digit diagnosis',\n",
    "       '4 digit diagnosis', '5 digit diagnosis','Same-day Flag','Patient Days'],axis = 1)\n",
    "new['Age Group'][new['Age Group'] == '01- Age under 1'] = '0-1'\n",
    "new['Age Group'][new['Age Group'] == '02- Age 1-4 yrs'] = '1-4'\n",
    "new['Sex'][new['Sex'] == '1- Male'] = 'Male'\n",
    "new['Sex'][new['Sex'] == '2- Female'] = 'Female'\n",
    "new.columns = ['Age','Sex','Value','Year']"
   ]
  },
  {
   "cell_type": "code",
   "execution_count": 31,
   "metadata": {},
   "outputs": [],
   "source": [
    "crush = pd.DataFrame(columns=['Age','Sex','Value','Year'])\n",
    "for i in ['0-1','1-4']:\n",
    "    for j in ['Male','Female']:\n",
    "        l1 = [[i,j,new.Value[(new.Age==i) & (new.Sex==j)].sum(),2016]]\n",
    "        l1 = pd.DataFrame(l1,columns=['Age','Sex','Value','Year'])\n",
    "        crush = crush.append(l1)\n",
    "        \n",
    "for i in ['0-1','1-4']:\n",
    "    l2 = [[i,'Persons',new.Value[new.Age==i].sum(),2016]]\n",
    "    l2 = pd.DataFrame(l2,columns=['Age','Sex','Value','Year'])\n",
    "    crush = crush.append(l2)\n",
    "    \n",
    "l3 = [['0-4','Persons',crush.Value[crush.Sex=='Persons'].sum(),2016]]\n",
    "l3 = pd.DataFrame(l3,columns =['Age','Sex','Value','Year'])\n",
    "crush = crush.append(l3)\n",
    "\n",
    "for i in ['Male','Female']:\n",
    "    l4 =[['0-4',i,crush.Value[crush.Sex==i].sum(),2016]]\n",
    "    l4 = pd.DataFrame(l4,columns=['Age','Sex','Value','Year'])\n",
    "    crush = crush.append(l4)\n",
    "\n",
    "crush['Type'] = 'Crush'"
   ]
  },
  {
   "cell_type": "markdown",
   "metadata": {},
   "source": [
    "### Transport"
   ]
  },
  {
   "cell_type": "code",
   "execution_count": 32,
   "metadata": {},
   "outputs": [
    {
     "data": {
      "text/plain": [
       "Index(['Diagnosis chapter', 'Diagnosis subchapter', '3 digit diagnosis',\n",
       "       '4 digit diagnosis', '5 digit diagnosis', 'Age Group', 'Sex',\n",
       "       'Same-day Flag', 'Separations', 'Patient Days', 'Year'],\n",
       "      dtype='object')"
      ]
     },
     "execution_count": 32,
     "metadata": {},
     "output_type": "execute_result"
    }
   ],
   "source": [
    "new = pd.read_excel('2016.xlsx',sheet_name='Transport')\n",
    "new.columns"
   ]
  },
  {
   "cell_type": "code",
   "execution_count": 33,
   "metadata": {},
   "outputs": [],
   "source": [
    "new = new.drop(['Diagnosis chapter', 'Diagnosis subchapter', '3 digit diagnosis',\n",
    "       '4 digit diagnosis', '5 digit diagnosis','Same-day Flag','Patient Days'],axis = 1)\n",
    "new['Age Group'][new['Age Group'] == '01- Age under 1'] = '0-1'\n",
    "new['Age Group'][new['Age Group'] == '02- Age 1-4 yrs'] = '1-4'\n",
    "new['Sex'][new['Sex'] == '1- Male'] = 'Male'\n",
    "new['Sex'][new['Sex'] == '2- Female'] = 'Female'\n",
    "new.columns = ['Age','Sex','Value','Year']"
   ]
  },
  {
   "cell_type": "code",
   "execution_count": 34,
   "metadata": {},
   "outputs": [],
   "source": [
    "trans = pd.DataFrame(columns=['Age','Sex','Value','Year'])\n",
    "for i in ['0-1','1-4']:\n",
    "    for j in ['Male','Female']:\n",
    "        l1 = [[i,j,new.Value[(new.Age==i) & (new.Sex==j)].sum(),2016]]\n",
    "        l1 = pd.DataFrame(l1,columns=['Age','Sex','Value','Year'])\n",
    "        trans = trans.append(l1)\n",
    "        \n",
    "for i in ['0-1','1-4']:\n",
    "    l2 = [[i,'Persons',new.Value[new.Age==i].sum(),2016]]\n",
    "    l2 = pd.DataFrame(l2,columns=['Age','Sex','Value','Year'])\n",
    "    trans = trans.append(l2)\n",
    "    \n",
    "l3 = [['0-4','Persons',trans.Value[trans.Sex=='Persons'].sum(),2016]]\n",
    "l3 = pd.DataFrame(l3,columns =['Age','Sex','Value','Year'])\n",
    "trans = trans.append(l3)\n",
    "\n",
    "for i in ['Male','Female']:\n",
    "    l4 =[['0-4',i,trans.Value[trans.Sex==i].sum(),2016]]\n",
    "    l4 = pd.DataFrame(l4,columns=['Age','Sex','Value','Year'])\n",
    "    trans = trans.append(l4)\n",
    "\n",
    "trans['Type'] = 'Transport'"
   ]
  },
  {
   "cell_type": "markdown",
   "metadata": {},
   "source": [
    "### Electric"
   ]
  },
  {
   "cell_type": "code",
   "execution_count": 35,
   "metadata": {},
   "outputs": [
    {
     "data": {
      "text/plain": [
       "Index(['Diagnosis chapter', 'Diagnosis subchapter', '3 digit diagnosis',\n",
       "       '4 digit diagnosis', '5 digit diagnosis', 'Age Group', 'Sex',\n",
       "       'Same-day Flag', 'Separations', 'Patient Days', 'Year'],\n",
       "      dtype='object')"
      ]
     },
     "execution_count": 35,
     "metadata": {},
     "output_type": "execute_result"
    }
   ],
   "source": [
    "new = pd.read_excel('2016.xlsx',sheet_name='Electric')\n",
    "new.columns"
   ]
  },
  {
   "cell_type": "code",
   "execution_count": 36,
   "metadata": {},
   "outputs": [],
   "source": [
    "new = new.drop(['Diagnosis chapter', 'Diagnosis subchapter', '3 digit diagnosis',\n",
    "       '4 digit diagnosis', '5 digit diagnosis','Same-day Flag','Patient Days'],axis = 1)\n",
    "new['Age Group'][new['Age Group'] == '01- Age under 1'] = '0-1'\n",
    "new['Age Group'][new['Age Group'] == '02- Age 1-4 yrs'] = '1-4'\n",
    "new['Sex'][new['Sex'] == '1- Male'] = 'Male'\n",
    "new['Sex'][new['Sex'] == '2- Female'] = 'Female'\n",
    "new.columns = ['Age','Sex','Value','Year']"
   ]
  },
  {
   "cell_type": "code",
   "execution_count": 37,
   "metadata": {},
   "outputs": [],
   "source": [
    "elec = pd.DataFrame(columns=['Age','Sex','Value','Year'])\n",
    "for i in ['0-1','1-4']:\n",
    "    for j in ['Male','Female']:\n",
    "        l1 = [[i,j,new.Value[(new.Age==i) & (new.Sex==j)].sum(),2016]]\n",
    "        l1 = pd.DataFrame(l1,columns=['Age','Sex','Value','Year'])\n",
    "        elec = elec.append(l1)\n",
    "        \n",
    "for i in ['0-1','1-4']:\n",
    "    l2 = [[i,'Persons',new.Value[new.Age==i].sum(),2016]]\n",
    "    l2 = pd.DataFrame(l2,columns=['Age','Sex','Value','Year'])\n",
    "    elec = elec.append(l2)\n",
    "    \n",
    "l3 = [['0-4','Persons',elec.Value[elec.Sex=='Persons'].sum(),2016]]\n",
    "l3 = pd.DataFrame(l3,columns =['Age','Sex','Value','Year'])\n",
    "elec = elec.append(l3)\n",
    "\n",
    "for i in ['Male','Female']:\n",
    "    l4 =[['0-4',i,elec.Value[elec.Sex==i].sum(),2016]]\n",
    "    l4 = pd.DataFrame(l4,columns=['Age','Sex','Value','Year'])\n",
    "    elec = elec.append(l4)\n",
    "\n",
    "elec['Type'] = 'Electric'"
   ]
  },
  {
   "cell_type": "code",
   "execution_count": 38,
   "metadata": {},
   "outputs": [],
   "source": [
    "b = drown.append(burn).append(poison).append(choke).append(fall).append(crush).append(trans).append(elec)"
   ]
  },
  {
   "cell_type": "code",
   "execution_count": 39,
   "metadata": {},
   "outputs": [
    {
     "data": {
      "text/html": [
       "<div>\n",
       "<style scoped>\n",
       "    .dataframe tbody tr th:only-of-type {\n",
       "        vertical-align: middle;\n",
       "    }\n",
       "\n",
       "    .dataframe tbody tr th {\n",
       "        vertical-align: top;\n",
       "    }\n",
       "\n",
       "    .dataframe thead th {\n",
       "        text-align: right;\n",
       "    }\n",
       "</style>\n",
       "<table border=\"1\" class=\"dataframe\">\n",
       "  <thead>\n",
       "    <tr style=\"text-align: right;\">\n",
       "      <th></th>\n",
       "      <th>Age</th>\n",
       "      <th>Sex</th>\n",
       "      <th>Value</th>\n",
       "      <th>Year</th>\n",
       "      <th>Type</th>\n",
       "    </tr>\n",
       "  </thead>\n",
       "  <tbody>\n",
       "    <tr>\n",
       "      <th>0</th>\n",
       "      <td>0-1</td>\n",
       "      <td>Male</td>\n",
       "      <td>23</td>\n",
       "      <td>2016</td>\n",
       "      <td>Drown</td>\n",
       "    </tr>\n",
       "    <tr>\n",
       "      <th>0</th>\n",
       "      <td>0-1</td>\n",
       "      <td>Female</td>\n",
       "      <td>11</td>\n",
       "      <td>2016</td>\n",
       "      <td>Drown</td>\n",
       "    </tr>\n",
       "    <tr>\n",
       "      <th>0</th>\n",
       "      <td>1-4</td>\n",
       "      <td>Male</td>\n",
       "      <td>147</td>\n",
       "      <td>2016</td>\n",
       "      <td>Drown</td>\n",
       "    </tr>\n",
       "    <tr>\n",
       "      <th>0</th>\n",
       "      <td>1-4</td>\n",
       "      <td>Female</td>\n",
       "      <td>112</td>\n",
       "      <td>2016</td>\n",
       "      <td>Drown</td>\n",
       "    </tr>\n",
       "    <tr>\n",
       "      <th>0</th>\n",
       "      <td>0-1</td>\n",
       "      <td>Persons</td>\n",
       "      <td>34</td>\n",
       "      <td>2016</td>\n",
       "      <td>Drown</td>\n",
       "    </tr>\n",
       "    <tr>\n",
       "      <th>0</th>\n",
       "      <td>1-4</td>\n",
       "      <td>Persons</td>\n",
       "      <td>259</td>\n",
       "      <td>2016</td>\n",
       "      <td>Drown</td>\n",
       "    </tr>\n",
       "    <tr>\n",
       "      <th>0</th>\n",
       "      <td>0-4</td>\n",
       "      <td>Persons</td>\n",
       "      <td>293</td>\n",
       "      <td>2016</td>\n",
       "      <td>Drown</td>\n",
       "    </tr>\n",
       "    <tr>\n",
       "      <th>0</th>\n",
       "      <td>0-4</td>\n",
       "      <td>Male</td>\n",
       "      <td>170</td>\n",
       "      <td>2016</td>\n",
       "      <td>Drown</td>\n",
       "    </tr>\n",
       "    <tr>\n",
       "      <th>0</th>\n",
       "      <td>0-4</td>\n",
       "      <td>Female</td>\n",
       "      <td>123</td>\n",
       "      <td>2016</td>\n",
       "      <td>Drown</td>\n",
       "    </tr>\n",
       "    <tr>\n",
       "      <th>0</th>\n",
       "      <td>0-1</td>\n",
       "      <td>Male</td>\n",
       "      <td>105</td>\n",
       "      <td>2016</td>\n",
       "      <td>Burn</td>\n",
       "    </tr>\n",
       "    <tr>\n",
       "      <th>0</th>\n",
       "      <td>0-1</td>\n",
       "      <td>Female</td>\n",
       "      <td>74</td>\n",
       "      <td>2016</td>\n",
       "      <td>Burn</td>\n",
       "    </tr>\n",
       "    <tr>\n",
       "      <th>0</th>\n",
       "      <td>1-4</td>\n",
       "      <td>Male</td>\n",
       "      <td>688</td>\n",
       "      <td>2016</td>\n",
       "      <td>Burn</td>\n",
       "    </tr>\n",
       "    <tr>\n",
       "      <th>0</th>\n",
       "      <td>1-4</td>\n",
       "      <td>Female</td>\n",
       "      <td>465</td>\n",
       "      <td>2016</td>\n",
       "      <td>Burn</td>\n",
       "    </tr>\n",
       "    <tr>\n",
       "      <th>0</th>\n",
       "      <td>0-1</td>\n",
       "      <td>Persons</td>\n",
       "      <td>179</td>\n",
       "      <td>2016</td>\n",
       "      <td>Burn</td>\n",
       "    </tr>\n",
       "    <tr>\n",
       "      <th>0</th>\n",
       "      <td>1-4</td>\n",
       "      <td>Persons</td>\n",
       "      <td>1153</td>\n",
       "      <td>2016</td>\n",
       "      <td>Burn</td>\n",
       "    </tr>\n",
       "    <tr>\n",
       "      <th>0</th>\n",
       "      <td>0-4</td>\n",
       "      <td>Persons</td>\n",
       "      <td>1332</td>\n",
       "      <td>2016</td>\n",
       "      <td>Burn</td>\n",
       "    </tr>\n",
       "    <tr>\n",
       "      <th>0</th>\n",
       "      <td>0-4</td>\n",
       "      <td>Male</td>\n",
       "      <td>793</td>\n",
       "      <td>2016</td>\n",
       "      <td>Burn</td>\n",
       "    </tr>\n",
       "    <tr>\n",
       "      <th>0</th>\n",
       "      <td>0-4</td>\n",
       "      <td>Female</td>\n",
       "      <td>539</td>\n",
       "      <td>2016</td>\n",
       "      <td>Burn</td>\n",
       "    </tr>\n",
       "    <tr>\n",
       "      <th>0</th>\n",
       "      <td>0-1</td>\n",
       "      <td>Male</td>\n",
       "      <td>76</td>\n",
       "      <td>2016</td>\n",
       "      <td>Poison</td>\n",
       "    </tr>\n",
       "    <tr>\n",
       "      <th>0</th>\n",
       "      <td>0-1</td>\n",
       "      <td>Female</td>\n",
       "      <td>55</td>\n",
       "      <td>2016</td>\n",
       "      <td>Poison</td>\n",
       "    </tr>\n",
       "    <tr>\n",
       "      <th>0</th>\n",
       "      <td>1-4</td>\n",
       "      <td>Male</td>\n",
       "      <td>856</td>\n",
       "      <td>2016</td>\n",
       "      <td>Poison</td>\n",
       "    </tr>\n",
       "    <tr>\n",
       "      <th>0</th>\n",
       "      <td>1-4</td>\n",
       "      <td>Female</td>\n",
       "      <td>679</td>\n",
       "      <td>2016</td>\n",
       "      <td>Poison</td>\n",
       "    </tr>\n",
       "    <tr>\n",
       "      <th>0</th>\n",
       "      <td>0-1</td>\n",
       "      <td>Persons</td>\n",
       "      <td>131</td>\n",
       "      <td>2016</td>\n",
       "      <td>Poison</td>\n",
       "    </tr>\n",
       "    <tr>\n",
       "      <th>0</th>\n",
       "      <td>1-4</td>\n",
       "      <td>Persons</td>\n",
       "      <td>1535</td>\n",
       "      <td>2016</td>\n",
       "      <td>Poison</td>\n",
       "    </tr>\n",
       "    <tr>\n",
       "      <th>0</th>\n",
       "      <td>0-4</td>\n",
       "      <td>Persons</td>\n",
       "      <td>1666</td>\n",
       "      <td>2016</td>\n",
       "      <td>Poison</td>\n",
       "    </tr>\n",
       "    <tr>\n",
       "      <th>0</th>\n",
       "      <td>0-4</td>\n",
       "      <td>Male</td>\n",
       "      <td>932</td>\n",
       "      <td>2016</td>\n",
       "      <td>Poison</td>\n",
       "    </tr>\n",
       "    <tr>\n",
       "      <th>0</th>\n",
       "      <td>0-4</td>\n",
       "      <td>Female</td>\n",
       "      <td>734</td>\n",
       "      <td>2016</td>\n",
       "      <td>Poison</td>\n",
       "    </tr>\n",
       "    <tr>\n",
       "      <th>0</th>\n",
       "      <td>0-1</td>\n",
       "      <td>Male</td>\n",
       "      <td>1</td>\n",
       "      <td>2016</td>\n",
       "      <td>Choke</td>\n",
       "    </tr>\n",
       "    <tr>\n",
       "      <th>0</th>\n",
       "      <td>0-1</td>\n",
       "      <td>Female</td>\n",
       "      <td>3</td>\n",
       "      <td>2016</td>\n",
       "      <td>Choke</td>\n",
       "    </tr>\n",
       "    <tr>\n",
       "      <th>0</th>\n",
       "      <td>1-4</td>\n",
       "      <td>Male</td>\n",
       "      <td>9</td>\n",
       "      <td>2016</td>\n",
       "      <td>Choke</td>\n",
       "    </tr>\n",
       "    <tr>\n",
       "      <th>...</th>\n",
       "      <td>...</td>\n",
       "      <td>...</td>\n",
       "      <td>...</td>\n",
       "      <td>...</td>\n",
       "      <td>...</td>\n",
       "    </tr>\n",
       "    <tr>\n",
       "      <th>0</th>\n",
       "      <td>0-4</td>\n",
       "      <td>Persons</td>\n",
       "      <td>18783</td>\n",
       "      <td>2016</td>\n",
       "      <td>Fall</td>\n",
       "    </tr>\n",
       "    <tr>\n",
       "      <th>0</th>\n",
       "      <td>0-4</td>\n",
       "      <td>Male</td>\n",
       "      <td>10952</td>\n",
       "      <td>2016</td>\n",
       "      <td>Fall</td>\n",
       "    </tr>\n",
       "    <tr>\n",
       "      <th>0</th>\n",
       "      <td>0-4</td>\n",
       "      <td>Female</td>\n",
       "      <td>7831</td>\n",
       "      <td>2016</td>\n",
       "      <td>Fall</td>\n",
       "    </tr>\n",
       "    <tr>\n",
       "      <th>0</th>\n",
       "      <td>0-1</td>\n",
       "      <td>Male</td>\n",
       "      <td>3</td>\n",
       "      <td>2016</td>\n",
       "      <td>Crush</td>\n",
       "    </tr>\n",
       "    <tr>\n",
       "      <th>0</th>\n",
       "      <td>0-1</td>\n",
       "      <td>Female</td>\n",
       "      <td>2</td>\n",
       "      <td>2016</td>\n",
       "      <td>Crush</td>\n",
       "    </tr>\n",
       "    <tr>\n",
       "      <th>0</th>\n",
       "      <td>1-4</td>\n",
       "      <td>Male</td>\n",
       "      <td>30</td>\n",
       "      <td>2016</td>\n",
       "      <td>Crush</td>\n",
       "    </tr>\n",
       "    <tr>\n",
       "      <th>0</th>\n",
       "      <td>1-4</td>\n",
       "      <td>Female</td>\n",
       "      <td>31</td>\n",
       "      <td>2016</td>\n",
       "      <td>Crush</td>\n",
       "    </tr>\n",
       "    <tr>\n",
       "      <th>0</th>\n",
       "      <td>0-1</td>\n",
       "      <td>Persons</td>\n",
       "      <td>5</td>\n",
       "      <td>2016</td>\n",
       "      <td>Crush</td>\n",
       "    </tr>\n",
       "    <tr>\n",
       "      <th>0</th>\n",
       "      <td>1-4</td>\n",
       "      <td>Persons</td>\n",
       "      <td>61</td>\n",
       "      <td>2016</td>\n",
       "      <td>Crush</td>\n",
       "    </tr>\n",
       "    <tr>\n",
       "      <th>0</th>\n",
       "      <td>0-4</td>\n",
       "      <td>Persons</td>\n",
       "      <td>66</td>\n",
       "      <td>2016</td>\n",
       "      <td>Crush</td>\n",
       "    </tr>\n",
       "    <tr>\n",
       "      <th>0</th>\n",
       "      <td>0-4</td>\n",
       "      <td>Male</td>\n",
       "      <td>33</td>\n",
       "      <td>2016</td>\n",
       "      <td>Crush</td>\n",
       "    </tr>\n",
       "    <tr>\n",
       "      <th>0</th>\n",
       "      <td>0-4</td>\n",
       "      <td>Female</td>\n",
       "      <td>33</td>\n",
       "      <td>2016</td>\n",
       "      <td>Crush</td>\n",
       "    </tr>\n",
       "    <tr>\n",
       "      <th>0</th>\n",
       "      <td>0-1</td>\n",
       "      <td>Male</td>\n",
       "      <td>10</td>\n",
       "      <td>2016</td>\n",
       "      <td>Transport</td>\n",
       "    </tr>\n",
       "    <tr>\n",
       "      <th>0</th>\n",
       "      <td>0-1</td>\n",
       "      <td>Female</td>\n",
       "      <td>20</td>\n",
       "      <td>2016</td>\n",
       "      <td>Transport</td>\n",
       "    </tr>\n",
       "    <tr>\n",
       "      <th>0</th>\n",
       "      <td>1-4</td>\n",
       "      <td>Male</td>\n",
       "      <td>27</td>\n",
       "      <td>2016</td>\n",
       "      <td>Transport</td>\n",
       "    </tr>\n",
       "    <tr>\n",
       "      <th>0</th>\n",
       "      <td>1-4</td>\n",
       "      <td>Female</td>\n",
       "      <td>22</td>\n",
       "      <td>2016</td>\n",
       "      <td>Transport</td>\n",
       "    </tr>\n",
       "    <tr>\n",
       "      <th>0</th>\n",
       "      <td>0-1</td>\n",
       "      <td>Persons</td>\n",
       "      <td>30</td>\n",
       "      <td>2016</td>\n",
       "      <td>Transport</td>\n",
       "    </tr>\n",
       "    <tr>\n",
       "      <th>0</th>\n",
       "      <td>1-4</td>\n",
       "      <td>Persons</td>\n",
       "      <td>49</td>\n",
       "      <td>2016</td>\n",
       "      <td>Transport</td>\n",
       "    </tr>\n",
       "    <tr>\n",
       "      <th>0</th>\n",
       "      <td>0-4</td>\n",
       "      <td>Persons</td>\n",
       "      <td>79</td>\n",
       "      <td>2016</td>\n",
       "      <td>Transport</td>\n",
       "    </tr>\n",
       "    <tr>\n",
       "      <th>0</th>\n",
       "      <td>0-4</td>\n",
       "      <td>Male</td>\n",
       "      <td>37</td>\n",
       "      <td>2016</td>\n",
       "      <td>Transport</td>\n",
       "    </tr>\n",
       "    <tr>\n",
       "      <th>0</th>\n",
       "      <td>0-4</td>\n",
       "      <td>Female</td>\n",
       "      <td>42</td>\n",
       "      <td>2016</td>\n",
       "      <td>Transport</td>\n",
       "    </tr>\n",
       "    <tr>\n",
       "      <th>0</th>\n",
       "      <td>0-1</td>\n",
       "      <td>Male</td>\n",
       "      <td>0</td>\n",
       "      <td>2016</td>\n",
       "      <td>Electric</td>\n",
       "    </tr>\n",
       "    <tr>\n",
       "      <th>0</th>\n",
       "      <td>0-1</td>\n",
       "      <td>Female</td>\n",
       "      <td>0</td>\n",
       "      <td>2016</td>\n",
       "      <td>Electric</td>\n",
       "    </tr>\n",
       "    <tr>\n",
       "      <th>0</th>\n",
       "      <td>1-4</td>\n",
       "      <td>Male</td>\n",
       "      <td>1</td>\n",
       "      <td>2016</td>\n",
       "      <td>Electric</td>\n",
       "    </tr>\n",
       "    <tr>\n",
       "      <th>0</th>\n",
       "      <td>1-4</td>\n",
       "      <td>Female</td>\n",
       "      <td>0</td>\n",
       "      <td>2016</td>\n",
       "      <td>Electric</td>\n",
       "    </tr>\n",
       "    <tr>\n",
       "      <th>0</th>\n",
       "      <td>0-1</td>\n",
       "      <td>Persons</td>\n",
       "      <td>0</td>\n",
       "      <td>2016</td>\n",
       "      <td>Electric</td>\n",
       "    </tr>\n",
       "    <tr>\n",
       "      <th>0</th>\n",
       "      <td>1-4</td>\n",
       "      <td>Persons</td>\n",
       "      <td>1</td>\n",
       "      <td>2016</td>\n",
       "      <td>Electric</td>\n",
       "    </tr>\n",
       "    <tr>\n",
       "      <th>0</th>\n",
       "      <td>0-4</td>\n",
       "      <td>Persons</td>\n",
       "      <td>1</td>\n",
       "      <td>2016</td>\n",
       "      <td>Electric</td>\n",
       "    </tr>\n",
       "    <tr>\n",
       "      <th>0</th>\n",
       "      <td>0-4</td>\n",
       "      <td>Male</td>\n",
       "      <td>1</td>\n",
       "      <td>2016</td>\n",
       "      <td>Electric</td>\n",
       "    </tr>\n",
       "    <tr>\n",
       "      <th>0</th>\n",
       "      <td>0-4</td>\n",
       "      <td>Female</td>\n",
       "      <td>0</td>\n",
       "      <td>2016</td>\n",
       "      <td>Electric</td>\n",
       "    </tr>\n",
       "  </tbody>\n",
       "</table>\n",
       "<p>72 rows × 5 columns</p>\n",
       "</div>"
      ],
      "text/plain": [
       "    Age      Sex  Value  Year       Type\n",
       "0   0-1     Male     23  2016      Drown\n",
       "0   0-1   Female     11  2016      Drown\n",
       "0   1-4     Male    147  2016      Drown\n",
       "0   1-4   Female    112  2016      Drown\n",
       "0   0-1  Persons     34  2016      Drown\n",
       "0   1-4  Persons    259  2016      Drown\n",
       "0   0-4  Persons    293  2016      Drown\n",
       "0   0-4     Male    170  2016      Drown\n",
       "0   0-4   Female    123  2016      Drown\n",
       "0   0-1     Male    105  2016       Burn\n",
       "0   0-1   Female     74  2016       Burn\n",
       "0   1-4     Male    688  2016       Burn\n",
       "0   1-4   Female    465  2016       Burn\n",
       "0   0-1  Persons    179  2016       Burn\n",
       "0   1-4  Persons   1153  2016       Burn\n",
       "0   0-4  Persons   1332  2016       Burn\n",
       "0   0-4     Male    793  2016       Burn\n",
       "0   0-4   Female    539  2016       Burn\n",
       "0   0-1     Male     76  2016     Poison\n",
       "0   0-1   Female     55  2016     Poison\n",
       "0   1-4     Male    856  2016     Poison\n",
       "0   1-4   Female    679  2016     Poison\n",
       "0   0-1  Persons    131  2016     Poison\n",
       "0   1-4  Persons   1535  2016     Poison\n",
       "0   0-4  Persons   1666  2016     Poison\n",
       "0   0-4     Male    932  2016     Poison\n",
       "0   0-4   Female    734  2016     Poison\n",
       "0   0-1     Male      1  2016      Choke\n",
       "0   0-1   Female      3  2016      Choke\n",
       "0   1-4     Male      9  2016      Choke\n",
       "..  ...      ...    ...   ...        ...\n",
       "0   0-4  Persons  18783  2016       Fall\n",
       "0   0-4     Male  10952  2016       Fall\n",
       "0   0-4   Female   7831  2016       Fall\n",
       "0   0-1     Male      3  2016      Crush\n",
       "0   0-1   Female      2  2016      Crush\n",
       "0   1-4     Male     30  2016      Crush\n",
       "0   1-4   Female     31  2016      Crush\n",
       "0   0-1  Persons      5  2016      Crush\n",
       "0   1-4  Persons     61  2016      Crush\n",
       "0   0-4  Persons     66  2016      Crush\n",
       "0   0-4     Male     33  2016      Crush\n",
       "0   0-4   Female     33  2016      Crush\n",
       "0   0-1     Male     10  2016  Transport\n",
       "0   0-1   Female     20  2016  Transport\n",
       "0   1-4     Male     27  2016  Transport\n",
       "0   1-4   Female     22  2016  Transport\n",
       "0   0-1  Persons     30  2016  Transport\n",
       "0   1-4  Persons     49  2016  Transport\n",
       "0   0-4  Persons     79  2016  Transport\n",
       "0   0-4     Male     37  2016  Transport\n",
       "0   0-4   Female     42  2016  Transport\n",
       "0   0-1     Male      0  2016   Electric\n",
       "0   0-1   Female      0  2016   Electric\n",
       "0   1-4     Male      1  2016   Electric\n",
       "0   1-4   Female      0  2016   Electric\n",
       "0   0-1  Persons      0  2016   Electric\n",
       "0   1-4  Persons      1  2016   Electric\n",
       "0   0-4  Persons      1  2016   Electric\n",
       "0   0-4     Male      1  2016   Electric\n",
       "0   0-4   Female      0  2016   Electric\n",
       "\n",
       "[72 rows x 5 columns]"
      ]
     },
     "execution_count": 39,
     "metadata": {},
     "output_type": "execute_result"
    }
   ],
   "source": [
    "b"
   ]
  },
  {
   "cell_type": "code",
   "execution_count": 40,
   "metadata": {},
   "outputs": [],
   "source": [
    "b.to_csv('Injury_Number_by_Type_Sex_Age_2016.csv',index=None)"
   ]
  }
 ],
 "metadata": {
  "kernelspec": {
   "display_name": "Python 3",
   "language": "python",
   "name": "python3"
  },
  "language_info": {
   "codemirror_mode": {
    "name": "ipython",
    "version": 3
   },
   "file_extension": ".py",
   "mimetype": "text/x-python",
   "name": "python",
   "nbconvert_exporter": "python",
   "pygments_lexer": "ipython3",
   "version": "3.6.4"
  }
 },
 "nbformat": 4,
 "nbformat_minor": 2
}
