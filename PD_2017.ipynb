{
 "cells": [
  {
   "cell_type": "code",
   "execution_count": 1,
   "metadata": {},
   "outputs": [],
   "source": [
    "import pandas as pd\n",
    "import warnings\n",
    "warnings.filterwarnings('ignore')"
   ]
  },
  {
   "cell_type": "code",
   "execution_count": 2,
   "metadata": {},
   "outputs": [
    {
     "data": {
      "text/plain": [
       "['Drown',\n",
       " 'Burn',\n",
       " 'Poison',\n",
       " 'Choke',\n",
       " 'Fallnocrush',\n",
       " 'Crush',\n",
       " 'Transport',\n",
       " 'Electric']"
      ]
     },
     "execution_count": 2,
     "metadata": {},
     "output_type": "execute_result"
    }
   ],
   "source": [
    "a = pd.ExcelFile('2017.xlsx')\n",
    "a.sheet_names"
   ]
  },
  {
   "cell_type": "markdown",
   "metadata": {},
   "source": [
    "### Drown"
   ]
  },
  {
   "cell_type": "code",
   "execution_count": 25,
   "metadata": {},
   "outputs": [
    {
     "data": {
      "text/plain": [
       "Index(['Diagnosis chapter', 'Diagnosis subchapter', '3 digit diagnosis',\n",
       "       '4 digit diagnosis', '5 digit diagnosis', 'Age Group', 'Sex',\n",
       "       'Same-day Flag', 'Separations', 'Patient Days', 'Year'],\n",
       "      dtype='object')"
      ]
     },
     "execution_count": 25,
     "metadata": {},
     "output_type": "execute_result"
    }
   ],
   "source": [
    "new = pd.read_excel('2017.xlsx',sheet_name='Drown')\n",
    "new.columns"
   ]
  },
  {
   "cell_type": "code",
   "execution_count": 26,
   "metadata": {},
   "outputs": [],
   "source": [
    "new = new.drop(['Diagnosis chapter', 'Diagnosis subchapter', '3 digit diagnosis',\n",
    "       '4 digit diagnosis', '5 digit diagnosis','Same-day Flag','Patient Days'],axis = 1)\n",
    "new['Age Group'][new['Age Group'] == '01- Age under 1'] = '0-1'\n",
    "new['Age Group'][new['Age Group'] == '02- Age 1-4 yrs'] = '1-4'\n",
    "new['Sex'][new['Sex'] == '1- Male'] = 'Male'\n",
    "new['Sex'][new['Sex'] == '2- Female'] = 'Female'\n",
    "new.columns = ['Age','Sex','Value','Year']"
   ]
  },
  {
   "cell_type": "code",
   "execution_count": 27,
   "metadata": {},
   "outputs": [],
   "source": [
    "drown = pd.DataFrame(columns=['Age','Sex','Value','Year'])\n",
    "for i in ['0-1','1-4']:\n",
    "    for j in ['Male','Female']:\n",
    "        l1 = [[i,j,new.Value[(new.Age==i) & (new.Sex==j)].sum(),2017]]\n",
    "        l1 = pd.DataFrame(l1,columns=['Age','Sex','Value','Year'])\n",
    "        drown = drown.append(l1)\n",
    "    \n",
    "for i in ['0-1','1-4']:\n",
    "    l2 = [[i,'Persons',new.Value[new.Age==i].sum(),2017]]\n",
    "    l2 = pd.DataFrame(l2,columns=['Age','Sex','Value','Year'])\n",
    "    drown = drown.append(l2)\n",
    "    \n",
    "l3 = [['0-4','Persons',drown.Value[drown.Sex=='Persons'].sum(),2017]]\n",
    "l3 = pd.DataFrame(l3,columns =['Age','Sex','Value','Year'])\n",
    "drown = drown.append(l3)\n",
    "\n",
    "for i in ['Male','Female']:\n",
    "    l4 =[['0-4',i,drown.Value[drown.Sex==i].sum(),2017]]\n",
    "    l4 = pd.DataFrame(l4,columns=['Age','Sex','Value','Year'])\n",
    "    drown = drown.append(l4)\n",
    "    \n",
    "drown['Type'] = 'Drown'"
   ]
  },
  {
   "cell_type": "markdown",
   "metadata": {},
   "source": [
    "### Burn"
   ]
  },
  {
   "cell_type": "code",
   "execution_count": 28,
   "metadata": {
    "scrolled": true
   },
   "outputs": [
    {
     "data": {
      "text/plain": [
       "Index(['Diagnosis chapter', 'Diagnosis subchapter', '3 digit diagnosis',\n",
       "       '4 digit diagnosis', '5 digit diagnosis', 'Age Group', 'Sex',\n",
       "       'Same-day Flag', 'Separations', 'Patient Days', 'Year'],\n",
       "      dtype='object')"
      ]
     },
     "execution_count": 28,
     "metadata": {},
     "output_type": "execute_result"
    }
   ],
   "source": [
    "new = pd.read_excel('2017.xlsx',sheet_name='Burn')\n",
    "new.columns"
   ]
  },
  {
   "cell_type": "code",
   "execution_count": 29,
   "metadata": {},
   "outputs": [],
   "source": [
    "new = new.drop(['Diagnosis chapter', 'Diagnosis subchapter', '3 digit diagnosis',\n",
    "       '4 digit diagnosis', '5 digit diagnosis','Same-day Flag','Patient Days'],axis = 1)\n",
    "new['Age Group'][new['Age Group'] == '01- Age under 1'] = '0-1'\n",
    "new['Age Group'][new['Age Group'] == '02- Age 1-4 yrs'] = '1-4'\n",
    "new['Sex'][new['Sex'] == '1- Male'] = 'Male'\n",
    "new['Sex'][new['Sex'] == '2- Female'] = 'Female'\n",
    "new.columns = ['Age','Sex','Value','Year']"
   ]
  },
  {
   "cell_type": "code",
   "execution_count": 31,
   "metadata": {},
   "outputs": [],
   "source": [
    "burn = pd.DataFrame(columns=['Age','Sex','Value','Year'])\n",
    "for i in ['0-1','1-4']:\n",
    "    for j in ['Male','Female']:\n",
    "        l1 = [[i,j,new.Value[(new.Age==i) & (new.Sex==j)].sum(),2017]]\n",
    "        l1 = pd.DataFrame(l1,columns=['Age','Sex','Value','Year'])\n",
    "        burn = burn.append(l1)\n",
    "        \n",
    "for i in ['0-1','1-4']:\n",
    "    l2 = [[i,'Persons',new.Value[new.Age==i].sum(),2017]]\n",
    "    l2 = pd.DataFrame(l2,columns=['Age','Sex','Value','Year'])\n",
    "    burn = burn.append(l2)\n",
    "    \n",
    "l3 = [['0-4','Persons',burn.Value[burn.Sex=='Persons'].sum(),2017]]\n",
    "l3 = pd.DataFrame(l3,columns =['Age','Sex','Value','Year'])\n",
    "burn = burn.append(l3)\n",
    "\n",
    "for i in ['Male','Female']:\n",
    "    l4 =[['0-4',i,burn.Value[burn.Sex==i].sum(),2017]]\n",
    "    l4 = pd.DataFrame(l4,columns=['Age','Sex','Value','Year'])\n",
    "    burn = burn.append(l4)\n",
    "\n",
    "burn['Type'] = 'Burn'"
   ]
  },
  {
   "cell_type": "markdown",
   "metadata": {},
   "source": [
    "### Poison"
   ]
  },
  {
   "cell_type": "code",
   "execution_count": 33,
   "metadata": {},
   "outputs": [
    {
     "data": {
      "text/plain": [
       "Index(['Diagnosis chapter', 'Diagnosis subchapter', '3 digit diagnosis',\n",
       "       '4 digit diagnosis', '5 digit diagnosis', 'Age Group', 'Sex',\n",
       "       'Same-day Flag', 'Separations', 'Patient Days', 'Year'],\n",
       "      dtype='object')"
      ]
     },
     "execution_count": 33,
     "metadata": {},
     "output_type": "execute_result"
    }
   ],
   "source": [
    "new = pd.read_excel('2017.xlsx',sheet_name='Poison')\n",
    "new.columns"
   ]
  },
  {
   "cell_type": "code",
   "execution_count": 34,
   "metadata": {},
   "outputs": [],
   "source": [
    "new = new.drop(['Diagnosis chapter', 'Diagnosis subchapter', '3 digit diagnosis',\n",
    "       '4 digit diagnosis', '5 digit diagnosis','Same-day Flag','Patient Days'],axis = 1)\n",
    "new['Age Group'][new['Age Group'] == '01- Age under 1'] = '0-1'\n",
    "new['Age Group'][new['Age Group'] == '02- Age 1-4 yrs'] = '1-4'\n",
    "new['Sex'][new['Sex'] == '1- Male'] = 'Male'\n",
    "new['Sex'][new['Sex'] == '2- Female'] = 'Female'\n",
    "new.columns = ['Age','Sex','Value','Year']"
   ]
  },
  {
   "cell_type": "code",
   "execution_count": 35,
   "metadata": {},
   "outputs": [],
   "source": [
    "poison = pd.DataFrame(columns=['Age','Sex','Value','Year'])\n",
    "for i in ['0-1','1-4']:\n",
    "    for j in ['Male','Female']:\n",
    "        l1 = [[i,j,new.Value[(new.Age==i) & (new.Sex==j)].sum(),2017]]\n",
    "        l1 = pd.DataFrame(l1,columns=['Age','Sex','Value','Year'])\n",
    "        poison = poison.append(l1)\n",
    "        \n",
    "for i in ['0-1','1-4']:\n",
    "    l2 = [[i,'Persons',new.Value[new.Age==i].sum(),2017]]\n",
    "    l2 = pd.DataFrame(l2,columns=['Age','Sex','Value','Year'])\n",
    "    poison = poison.append(l2)\n",
    "    \n",
    "l3 = [['0-4','Persons',poison.Value[poison.Sex=='Persons'].sum(),2017]]\n",
    "l3 = pd.DataFrame(l3,columns =['Age','Sex','Value','Year'])\n",
    "poison = poison.append(l3)\n",
    "\n",
    "for i in ['Male','Female']:\n",
    "    l4 =[['0-4',i,poison.Value[poison.Sex==i].sum(),2017]]\n",
    "    l4 = pd.DataFrame(l4,columns=['Age','Sex','Value','Year'])\n",
    "    poison = poison.append(l4)\n",
    "\n",
    "poison['Type'] = 'Poison'"
   ]
  },
  {
   "cell_type": "markdown",
   "metadata": {},
   "source": [
    "### Choke"
   ]
  },
  {
   "cell_type": "code",
   "execution_count": 37,
   "metadata": {
    "scrolled": true
   },
   "outputs": [
    {
     "data": {
      "text/plain": [
       "Index(['Diagnosis chapter', 'Diagnosis subchapter', '3 digit diagnosis',\n",
       "       '4 digit diagnosis', '5 digit diagnosis', 'Age Group', 'Sex',\n",
       "       'Same-day Flag', 'Separations', 'Patient Days', 'Year'],\n",
       "      dtype='object')"
      ]
     },
     "execution_count": 37,
     "metadata": {},
     "output_type": "execute_result"
    }
   ],
   "source": [
    "new = pd.read_excel('2017.xlsx',sheet_name='Choke')\n",
    "new.columns"
   ]
  },
  {
   "cell_type": "code",
   "execution_count": 38,
   "metadata": {},
   "outputs": [],
   "source": [
    "new = new.drop(['Diagnosis chapter', 'Diagnosis subchapter', '3 digit diagnosis',\n",
    "       '4 digit diagnosis', '5 digit diagnosis','Same-day Flag','Patient Days'],axis = 1)\n",
    "new['Age Group'][new['Age Group'] == '01- Age under 1'] = '0-1'\n",
    "new['Age Group'][new['Age Group'] == '02- Age 1-4 yrs'] = '1-4'\n",
    "new['Sex'][new['Sex'] == '1- Male'] = 'Male'\n",
    "new['Sex'][new['Sex'] == '2- Female'] = 'Female'\n",
    "new.columns = ['Age','Sex','Value','Year']"
   ]
  },
  {
   "cell_type": "code",
   "execution_count": 39,
   "metadata": {},
   "outputs": [],
   "source": [
    "choke = pd.DataFrame(columns=['Age','Sex','Value','Year'])\n",
    "for i in ['0-1','1-4']:\n",
    "    for j in ['Male','Female']:\n",
    "        l1 = [[i,j,new.Value[(new.Age==i) & (new.Sex==j)].sum(),2017]]\n",
    "        l1 = pd.DataFrame(l1,columns=['Age','Sex','Value','Year'])\n",
    "        choke = choke.append(l1)\n",
    "        \n",
    "for i in ['0-1','1-4']:\n",
    "    l2 = [[i,'Persons',new.Value[new.Age==i].sum(),2017]]\n",
    "    l2 = pd.DataFrame(l2,columns=['Age','Sex','Value','Year'])\n",
    "    choke = choke.append(l2)\n",
    "    \n",
    "l3 = [['0-4','Persons',choke.Value[choke.Sex=='Persons'].sum(),2017]]\n",
    "l3 = pd.DataFrame(l3,columns =['Age','Sex','Value','Year'])\n",
    "choke = choke.append(l3)\n",
    "\n",
    "for i in ['Male','Female']:\n",
    "    l4 =[['0-4',i,choke.Value[choke.Sex==i].sum(),2017]]\n",
    "    l4 = pd.DataFrame(l4,columns=['Age','Sex','Value','Year'])\n",
    "    choke = choke.append(l4)\n",
    "\n",
    "choke['Type'] = 'Choke'"
   ]
  },
  {
   "cell_type": "markdown",
   "metadata": {},
   "source": [
    "### Fall"
   ]
  },
  {
   "cell_type": "code",
   "execution_count": 40,
   "metadata": {},
   "outputs": [
    {
     "data": {
      "text/plain": [
       "Index(['Diagnosis chapter', 'Diagnosis subchapter', '3 digit diagnosis',\n",
       "       '4 digit diagnosis', '5 digit diagnosis', 'Age Group', 'Sex',\n",
       "       'Same-day Flag', 'Separations', 'Patient Days', 'Year'],\n",
       "      dtype='object')"
      ]
     },
     "execution_count": 40,
     "metadata": {},
     "output_type": "execute_result"
    }
   ],
   "source": [
    "new = pd.read_excel('2017.xlsx',sheet_name='Fallnocrush')\n",
    "new.columns"
   ]
  },
  {
   "cell_type": "code",
   "execution_count": 41,
   "metadata": {},
   "outputs": [],
   "source": [
    "new = new.drop(['Diagnosis chapter', 'Diagnosis subchapter', '3 digit diagnosis',\n",
    "       '4 digit diagnosis', '5 digit diagnosis','Same-day Flag','Patient Days'],axis = 1)\n",
    "new['Age Group'][new['Age Group'] == '01- Age under 1'] = '0-1'\n",
    "new['Age Group'][new['Age Group'] == '02- Age 1-4 yrs'] = '1-4'\n",
    "new['Sex'][new['Sex'] == '1- Male'] = 'Male'\n",
    "new['Sex'][new['Sex'] == '2- Female'] = 'Female'\n",
    "new.columns = ['Age','Sex','Value','Year']"
   ]
  },
  {
   "cell_type": "code",
   "execution_count": 42,
   "metadata": {},
   "outputs": [],
   "source": [
    "fall = pd.DataFrame(columns=['Age','Sex','Value','Year'])\n",
    "for i in ['0-1','1-4']:\n",
    "    for j in ['Male','Female']:\n",
    "        l1 = [[i,j,new.Value[(new.Age==i) & (new.Sex==j)].sum(),2017]]\n",
    "        l1 = pd.DataFrame(l1,columns=['Age','Sex','Value','Year'])\n",
    "        fall = fall.append(l1)\n",
    "        \n",
    "for i in ['0-1','1-4']:\n",
    "    l2 = [[i,'Persons',new.Value[new.Age==i].sum(),2017]]\n",
    "    l2 = pd.DataFrame(l2,columns=['Age','Sex','Value','Year'])\n",
    "    fall = fall.append(l2)\n",
    "    \n",
    "l3 = [['0-4','Persons',fall.Value[fall.Sex=='Persons'].sum(),2017]]\n",
    "l3 = pd.DataFrame(l3,columns =['Age','Sex','Value','Year'])\n",
    "fall = fall.append(l3)\n",
    "\n",
    "for i in ['Male','Female']:\n",
    "    l4 =[['0-4',i,fall.Value[fall.Sex==i].sum(),2017]]\n",
    "    l4 = pd.DataFrame(l4,columns=['Age','Sex','Value','Year'])\n",
    "    fall = fall.append(l4)\n",
    "\n",
    "fall['Type'] = 'Fall'"
   ]
  },
  {
   "cell_type": "markdown",
   "metadata": {},
   "source": [
    "### Crush"
   ]
  },
  {
   "cell_type": "code",
   "execution_count": 43,
   "metadata": {},
   "outputs": [
    {
     "data": {
      "text/plain": [
       "Index(['Diagnosis chapter', 'Diagnosis subchapter', '3 digit diagnosis',\n",
       "       '4 digit diagnosis', '5 digit diagnosis', 'Age Group', 'Sex',\n",
       "       'Same-day Flag', 'Separations', 'Patient Days', 'Year'],\n",
       "      dtype='object')"
      ]
     },
     "execution_count": 43,
     "metadata": {},
     "output_type": "execute_result"
    }
   ],
   "source": [
    "new = pd.read_excel('2017.xlsx',sheet_name='Crush')\n",
    "new.columns"
   ]
  },
  {
   "cell_type": "code",
   "execution_count": 44,
   "metadata": {},
   "outputs": [],
   "source": [
    "new = new.drop(['Diagnosis chapter', 'Diagnosis subchapter', '3 digit diagnosis',\n",
    "       '4 digit diagnosis', '5 digit diagnosis','Same-day Flag','Patient Days'],axis = 1)\n",
    "new['Age Group'][new['Age Group'] == '01- Age under 1'] = '0-1'\n",
    "new['Age Group'][new['Age Group'] == '02- Age 1-4 yrs'] = '1-4'\n",
    "new['Sex'][new['Sex'] == '1- Male'] = 'Male'\n",
    "new['Sex'][new['Sex'] == '2- Female'] = 'Female'\n",
    "new.columns = ['Age','Sex','Value','Year']"
   ]
  },
  {
   "cell_type": "code",
   "execution_count": 45,
   "metadata": {},
   "outputs": [],
   "source": [
    "crush = pd.DataFrame(columns=['Age','Sex','Value','Year'])\n",
    "for i in ['0-1','1-4']:\n",
    "    for j in ['Male','Female']:\n",
    "        l1 = [[i,j,new.Value[(new.Age==i) & (new.Sex==j)].sum(),2017]]\n",
    "        l1 = pd.DataFrame(l1,columns=['Age','Sex','Value','Year'])\n",
    "        crush = crush.append(l1)\n",
    "        \n",
    "for i in ['0-1','1-4']:\n",
    "    l2 = [[i,'Persons',new.Value[new.Age==i].sum(),2017]]\n",
    "    l2 = pd.DataFrame(l2,columns=['Age','Sex','Value','Year'])\n",
    "    crush = crush.append(l2)\n",
    "    \n",
    "l3 = [['0-4','Persons',crush.Value[crush.Sex=='Persons'].sum(),2017]]\n",
    "l3 = pd.DataFrame(l3,columns =['Age','Sex','Value','Year'])\n",
    "crush = crush.append(l3)\n",
    "\n",
    "for i in ['Male','Female']:\n",
    "    l4 =[['0-4',i,crush.Value[crush.Sex==i].sum(),2017]]\n",
    "    l4 = pd.DataFrame(l4,columns=['Age','Sex','Value','Year'])\n",
    "    crush = crush.append(l4)\n",
    "\n",
    "crush['Type'] = 'Crush'"
   ]
  },
  {
   "cell_type": "markdown",
   "metadata": {},
   "source": [
    "### Transport"
   ]
  },
  {
   "cell_type": "code",
   "execution_count": 46,
   "metadata": {},
   "outputs": [
    {
     "data": {
      "text/plain": [
       "Index(['Diagnosis chapter', 'Diagnosis subchapter', '3 digit diagnosis',\n",
       "       '4 digit diagnosis', '5 digit diagnosis', 'Age Group', 'Sex',\n",
       "       'Same-day Flag', 'Separations', 'Patient Days', 'Year'],\n",
       "      dtype='object')"
      ]
     },
     "execution_count": 46,
     "metadata": {},
     "output_type": "execute_result"
    }
   ],
   "source": [
    "new = pd.read_excel('2017.xlsx',sheet_name='Transport')\n",
    "new.columns"
   ]
  },
  {
   "cell_type": "code",
   "execution_count": 47,
   "metadata": {},
   "outputs": [],
   "source": [
    "new = new.drop(['Diagnosis chapter', 'Diagnosis subchapter', '3 digit diagnosis',\n",
    "       '4 digit diagnosis', '5 digit diagnosis','Same-day Flag','Patient Days'],axis = 1)\n",
    "new['Age Group'][new['Age Group'] == '01- Age under 1'] = '0-1'\n",
    "new['Age Group'][new['Age Group'] == '02- Age 1-4 yrs'] = '1-4'\n",
    "new['Sex'][new['Sex'] == '1- Male'] = 'Male'\n",
    "new['Sex'][new['Sex'] == '2- Female'] = 'Female'\n",
    "new.columns = ['Age','Sex','Value','Year']"
   ]
  },
  {
   "cell_type": "code",
   "execution_count": 48,
   "metadata": {},
   "outputs": [],
   "source": [
    "trans = pd.DataFrame(columns=['Age','Sex','Value','Year'])\n",
    "for i in ['0-1','1-4']:\n",
    "    for j in ['Male','Female']:\n",
    "        l1 = [[i,j,new.Value[(new.Age==i) & (new.Sex==j)].sum(),2017]]\n",
    "        l1 = pd.DataFrame(l1,columns=['Age','Sex','Value','Year'])\n",
    "        trans = trans.append(l1)\n",
    "        \n",
    "for i in ['0-1','1-4']:\n",
    "    l2 = [[i,'Persons',new.Value[new.Age==i].sum(),2017]]\n",
    "    l2 = pd.DataFrame(l2,columns=['Age','Sex','Value','Year'])\n",
    "    trans = trans.append(l2)\n",
    "    \n",
    "l3 = [['0-4','Persons',trans.Value[trans.Sex=='Persons'].sum(),2017]]\n",
    "l3 = pd.DataFrame(l3,columns =['Age','Sex','Value','Year'])\n",
    "trans = trans.append(l3)\n",
    "\n",
    "for i in ['Male','Female']:\n",
    "    l4 =[['0-4',i,trans.Value[trans.Sex==i].sum(),2017]]\n",
    "    l4 = pd.DataFrame(l4,columns=['Age','Sex','Value','Year'])\n",
    "    trans = trans.append(l4)\n",
    "\n",
    "trans['Type'] = 'Transport'"
   ]
  },
  {
   "cell_type": "markdown",
   "metadata": {},
   "source": [
    "### Electric"
   ]
  },
  {
   "cell_type": "code",
   "execution_count": 49,
   "metadata": {},
   "outputs": [
    {
     "data": {
      "text/plain": [
       "Index(['Diagnosis chapter', 'Diagnosis subchapter', '3 digit diagnosis',\n",
       "       '4 digit diagnosis', '5 digit diagnosis', 'Age Group', 'Sex',\n",
       "       'Same-day Flag', 'Separations', 'Patient Days', 'Year'],\n",
       "      dtype='object')"
      ]
     },
     "execution_count": 49,
     "metadata": {},
     "output_type": "execute_result"
    }
   ],
   "source": [
    "new = pd.read_excel('2017.xlsx',sheet_name='Electric')\n",
    "new.columns"
   ]
  },
  {
   "cell_type": "code",
   "execution_count": 50,
   "metadata": {},
   "outputs": [],
   "source": [
    "new = new.drop(['Diagnosis chapter', 'Diagnosis subchapter', '3 digit diagnosis',\n",
    "       '4 digit diagnosis', '5 digit diagnosis','Same-day Flag','Patient Days'],axis = 1)\n",
    "new['Age Group'][new['Age Group'] == '01- Age under 1'] = '0-1'\n",
    "new['Age Group'][new['Age Group'] == '02- Age 1-4 yrs'] = '1-4'\n",
    "new['Sex'][new['Sex'] == '1- Male'] = 'Male'\n",
    "new['Sex'][new['Sex'] == '2- Female'] = 'Female'\n",
    "new.columns = ['Age','Sex','Value','Year']"
   ]
  },
  {
   "cell_type": "code",
   "execution_count": 51,
   "metadata": {},
   "outputs": [],
   "source": [
    "elec = pd.DataFrame(columns=['Age','Sex','Value','Year'])\n",
    "for i in ['0-1','1-4']:\n",
    "    for j in ['Male','Female']:\n",
    "        l1 = [[i,j,new.Value[(new.Age==i) & (new.Sex==j)].sum(),2017]]\n",
    "        l1 = pd.DataFrame(l1,columns=['Age','Sex','Value','Year'])\n",
    "        elec = elec.append(l1)\n",
    "        \n",
    "for i in ['0-1','1-4']:\n",
    "    l2 = [[i,'Persons',new.Value[new.Age==i].sum(),2017]]\n",
    "    l2 = pd.DataFrame(l2,columns=['Age','Sex','Value','Year'])\n",
    "    elec = elec.append(l2)\n",
    "    \n",
    "l3 = [['0-4','Persons',elec.Value[elec.Sex=='Persons'].sum(),2017]]\n",
    "l3 = pd.DataFrame(l3,columns =['Age','Sex','Value','Year'])\n",
    "elec = elec.append(l3)\n",
    "\n",
    "for i in ['Male','Female']:\n",
    "    l4 =[['0-4',i,elec.Value[elec.Sex==i].sum(),2017]]\n",
    "    l4 = pd.DataFrame(l4,columns=['Age','Sex','Value','Year'])\n",
    "    elec = elec.append(l4)\n",
    "\n",
    "elec['Type'] = 'Electric'"
   ]
  },
  {
   "cell_type": "code",
   "execution_count": 52,
   "metadata": {},
   "outputs": [],
   "source": [
    "b = drown.append(burn).append(poison).append(choke).append(fall).append(crush).append(trans).append(elec)"
   ]
  },
  {
   "cell_type": "code",
   "execution_count": 55,
   "metadata": {
    "scrolled": true
   },
   "outputs": [
    {
     "data": {
      "text/plain": [
       "(72, 5)"
      ]
     },
     "execution_count": 55,
     "metadata": {},
     "output_type": "execute_result"
    }
   ],
   "source": [
    "b.shape"
   ]
  },
  {
   "cell_type": "code",
   "execution_count": 56,
   "metadata": {},
   "outputs": [],
   "source": [
    "b.to_csv('Injury_Number_by_Type_Sex_Age_2017.csv',index=None)"
   ]
  }
 ],
 "metadata": {
  "kernelspec": {
   "display_name": "Python 3",
   "language": "python",
   "name": "python3"
  },
  "language_info": {
   "codemirror_mode": {
    "name": "ipython",
    "version": 3
   },
   "file_extension": ".py",
   "mimetype": "text/x-python",
   "name": "python",
   "nbconvert_exporter": "python",
   "pygments_lexer": "ipython3",
   "version": "3.6.4"
  }
 },
 "nbformat": 4,
 "nbformat_minor": 2
}
